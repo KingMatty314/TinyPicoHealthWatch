{
 "cells": [
  {
   "cell_type": "markdown",
   "id": "951a3d48",
   "metadata": {},
   "source": [
    "# Oximeter Design Program"
   ]
  },
  {
   "cell_type": "markdown",
   "id": "752b7b58",
   "metadata": {},
   "source": [
    "### 1) Set sample data N, with Sample Frequency fs"
   ]
  },
  {
   "cell_type": "code",
   "execution_count": null,
   "id": "b2e933dc",
   "metadata": {},
   "outputs": [],
   "source": []
  },
  {
   "cell_type": "markdown",
   "id": "67dd0e6d",
   "metadata": {},
   "source": [
    "### 2) Remove Noise with low-pass filter"
   ]
  },
  {
   "cell_type": "code",
   "execution_count": null,
   "id": "351c00c4",
   "metadata": {},
   "outputs": [],
   "source": []
  },
  {
   "cell_type": "markdown",
   "id": "2a0a1cec",
   "metadata": {},
   "source": [
    "### 3) Gaussian filter to determine DC Signal"
   ]
  },
  {
   "cell_type": "code",
   "execution_count": null,
   "id": "899d86a2",
   "metadata": {},
   "outputs": [],
   "source": []
  },
  {
   "cell_type": "markdown",
   "id": "cd914e85",
   "metadata": {},
   "source": [
    "### 4) Autocorrelation find peaks"
   ]
  },
  {
   "cell_type": "code",
   "execution_count": null,
   "id": "586a95b0",
   "metadata": {},
   "outputs": [],
   "source": []
  },
  {
   "cell_type": "markdown",
   "id": "de0d178f",
   "metadata": {},
   "source": [
    "### 5) Calculate RMS values using peak"
   ]
  },
  {
   "cell_type": "code",
   "execution_count": null,
   "id": "d17f6d97",
   "metadata": {},
   "outputs": [],
   "source": []
  },
  {
   "cell_type": "markdown",
   "id": "fb0e7419",
   "metadata": {},
   "source": [
    "### 6) Find ratio of illumination values"
   ]
  },
  {
   "cell_type": "code",
   "execution_count": null,
   "id": "dc4683cb",
   "metadata": {},
   "outputs": [],
   "source": []
  },
  {
   "cell_type": "markdown",
   "id": "20e79b61",
   "metadata": {},
   "source": [
    "### 7) Local up table determine oxygentation values"
   ]
  },
  {
   "cell_type": "code",
   "execution_count": null,
   "id": "045813ce",
   "metadata": {},
   "outputs": [],
   "source": []
  },
  {
   "cell_type": "markdown",
   "id": "38482593",
   "metadata": {},
   "source": [
    "### 8) Apply fast fourier transform"
   ]
  },
  {
   "cell_type": "markdown",
   "id": "e9db1f1d",
   "metadata": {},
   "source": [
    "### 9) Determine the frequency of AC signal"
   ]
  },
  {
   "cell_type": "markdown",
   "id": "4180bd96",
   "metadata": {},
   "source": [
    "### 10) Calculate heart rate"
   ]
  },
  {
   "cell_type": "code",
   "execution_count": null,
   "id": "f86b9678",
   "metadata": {},
   "outputs": [],
   "source": []
  }
 ],
 "metadata": {
  "kernelspec": {
   "display_name": "Python 3 (ipykernel)",
   "language": "python",
   "name": "python3"
  },
  "language_info": {
   "codemirror_mode": {
    "name": "ipython",
    "version": 3
   },
   "file_extension": ".py",
   "mimetype": "text/x-python",
   "name": "python",
   "nbconvert_exporter": "python",
   "pygments_lexer": "ipython3",
   "version": "3.9.7"
  }
 },
 "nbformat": 4,
 "nbformat_minor": 5
}
