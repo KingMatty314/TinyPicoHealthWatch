{
 "cells": [
  {
   "cell_type": "markdown",
   "id": "e97322cf",
   "metadata": {},
   "source": [
    "# Classifer Trainer"
   ]
  },
  {
   "cell_type": "markdown",
   "id": "56fe40ce",
   "metadata": {},
   "source": [
    "### Read Training Data"
   ]
  },
  {
   "cell_type": "code",
   "execution_count": 1,
   "id": "e326691a",
   "metadata": {},
   "outputs": [],
   "source": [
    "import pandas as pd\n",
    "\n",
    "xl_sheets = pd.ExcelFile(\"data/ml/TestData.xlsx\")\n",
    "training_data = xl_sheets.parse(\"Training set\")\n",
    "testing_data = xl_sheets.parse(\"Test data\")"
   ]
  },
  {
   "cell_type": "markdown",
   "id": "cc08c845",
   "metadata": {},
   "source": [
    "### Train Classifer "
   ]
  },
  {
   "cell_type": "code",
   "execution_count": 2,
   "id": "52df9d82",
   "metadata": {},
   "outputs": [
    {
     "name": "stdout",
     "output_type": "stream",
     "text": [
      "[2 2 2 0]\n"
     ]
    }
   ],
   "source": [
    "from sklearn.tree import ExtraTreeClassifier\n",
    "\n",
    "# Construct Training and Test Dataset\n",
    "x_train = training_data.iloc[:, 0:4].values\n",
    "y_train = []\n",
    "for data in training_data.iloc[:, 4].values:\n",
    "    if data == \"Home\":\n",
    "        y_train.append(0)\n",
    "    elif data == \"Sleeping\":\n",
    "        y_train.append(2)\n",
    "    elif data == \"Not Home\":\n",
    "        y_train.append(1)\n",
    "    else:\n",
    "        print(\"Error Bad Label\")\n",
    "x_test = testing_data.iloc[:, 0:4].values\n",
    "y_test = []\n",
    "\n",
    "# Regression Model\n",
    "clf = ExtraTreeClassifier(criterion=\"entropy\", random_state=0)\n",
    "# Train Model\n",
    "clf.fit(x_train, y_train)\n",
    "# Prediction\n",
    "y_pred = clf.predict(x_test)\n",
    "print(y_pred)"
   ]
  },
  {
   "cell_type": "markdown",
   "id": "51d768ab",
   "metadata": {},
   "source": [
    "### Generate Model and Port ESP32"
   ]
  },
  {
   "cell_type": "code",
   "execution_count": 3,
   "id": "90fcc1ed",
   "metadata": {},
   "outputs": [
    {
     "name": "stdout",
     "output_type": "stream",
     "text": [
      "#pragma once\n",
      "#include <cstdarg>\n",
      "namespace Eloquent {\n",
      "    namespace ML {\n",
      "        namespace Port {\n",
      "            class DecisionTree {\n",
      "                public:\n",
      "                    /**\n",
      "                    * Predict class for features vector\n",
      "                    */\n",
      "                    int predict(float *x) {\n",
      "                        if (x[1] <= 31.977136629157297) {\n",
      "                            return 2;\n",
      "                        }\n",
      "\n",
      "                        else {\n",
      "                            if (x[1] <= 263.41323792534564) {\n",
      "                                if (x[0] <= 37.27000311821234) {\n",
      "                                    if (x[2] <= 30.608527462747194) {\n",
      "                                        if (x[1] <= 64.77516961972005) {\n",
      "                                            return 2;\n",
      "                                        }\n",
      "\n",
      "                                        else {\n",
      "                                            if (x[1] <= 160.34696701464568) {\n",
      "                                                return 1;\n",
      "                                            }\n",
      "\n",
      "                                            else {\n",
      "                                                return 2;\n",
      "                                            }\n",
      "                                        }\n",
      "                                    }\n",
      "\n",
      "                                    else {\n",
      "                                        return 1;\n",
      "                                    }\n",
      "                                }\n",
      "\n",
      "                                else {\n",
      "                                    if (x[0] <= 65.04807636656243) {\n",
      "                                        if (x[1] <= 33.38031509582899) {\n",
      "                                            return 2;\n",
      "                                        }\n",
      "\n",
      "                                        else {\n",
      "                                            if (x[0] <= 40.87541657633866) {\n",
      "                                                if (x[3] <= 13.288977947686323) {\n",
      "                                                    return 2;\n",
      "                                                }\n",
      "\n",
      "                                                else {\n",
      "                                                    return 0;\n",
      "                                                }\n",
      "                                            }\n",
      "\n",
      "                                            else {\n",
      "                                                if (x[2] <= 26.39724353952205) {\n",
      "                                                    if (x[1] <= 43.23113322780986) {\n",
      "                                                        return 1;\n",
      "                                                    }\n",
      "\n",
      "                                                    else {\n",
      "                                                        return 2;\n",
      "                                                    }\n",
      "                                                }\n",
      "\n",
      "                                                else {\n",
      "                                                    if (x[0] <= 48.69497344628674) {\n",
      "                                                        return 1;\n",
      "                                                    }\n",
      "\n",
      "                                                    else {\n",
      "                                                        if (x[3] <= 9.5346840799482) {\n",
      "                                                            return 0;\n",
      "                                                        }\n",
      "\n",
      "                                                        else {\n",
      "                                                            return 1;\n",
      "                                                        }\n",
      "                                                    }\n",
      "                                                }\n",
      "                                            }\n",
      "                                        }\n",
      "                                    }\n",
      "\n",
      "                                    else {\n",
      "                                        return 0;\n",
      "                                    }\n",
      "                                }\n",
      "                            }\n",
      "\n",
      "                            else {\n",
      "                                if (x[0] <= 67.25393904384875) {\n",
      "                                    if (x[0] <= 44.285369064326105) {\n",
      "                                        if (x[0] <= 42.34893972489468) {\n",
      "                                            if (x[2] <= 61.239820425510324) {\n",
      "                                                if (x[2] <= 35.30375038846571) {\n",
      "                                                    return 0;\n",
      "                                                }\n",
      "\n",
      "                                                else {\n",
      "                                                    return 1;\n",
      "                                                }\n",
      "                                            }\n",
      "\n",
      "                                            else {\n",
      "                                                return 0;\n",
      "                                            }\n",
      "                                        }\n",
      "\n",
      "                                        else {\n",
      "                                            return 1;\n",
      "                                        }\n",
      "                                    }\n",
      "\n",
      "                                    else {\n",
      "                                        return 0;\n",
      "                                    }\n",
      "                                }\n",
      "\n",
      "                                else {\n",
      "                                    return 1;\n",
      "                                }\n",
      "                            }\n",
      "                        }\n",
      "                    }\n",
      "\n",
      "                protected:\n",
      "                };\n",
      "            }\n",
      "        }\n",
      "    }\n"
     ]
    }
   ],
   "source": [
    "from micromlgen import port\n",
    "\n",
    "print(port(clf))"
   ]
  },
  {
   "cell_type": "code",
   "execution_count": null,
   "id": "6f49a731",
   "metadata": {},
   "outputs": [],
   "source": []
  }
 ],
 "metadata": {
  "kernelspec": {
   "display_name": "Python 3 (ipykernel)",
   "language": "python",
   "name": "python3"
  },
  "language_info": {
   "codemirror_mode": {
    "name": "ipython",
    "version": 3
   },
   "file_extension": ".py",
   "mimetype": "text/x-python",
   "name": "python",
   "nbconvert_exporter": "python",
   "pygments_lexer": "ipython3",
   "version": "3.9.7"
  }
 },
 "nbformat": 4,
 "nbformat_minor": 5
}
